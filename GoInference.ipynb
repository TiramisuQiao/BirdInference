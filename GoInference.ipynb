{
 "cells": [
  {
   "cell_type": "code",
   "outputs": [],
   "source": [
    "import sys"
   ],
   "metadata": {
    "collapsed": false,
    "ExecuteTime": {
     "end_time": "2024-04-11T06:15:44.421241Z",
     "start_time": "2024-04-11T06:15:40.642545Z"
    }
   },
   "id": "initial_id",
   "execution_count": 2
  },
  {
   "cell_type": "code",
   "outputs": [],
   "source": [
    "import pandas as pd\n",
    "import librosa\n",
    "import torch\n",
    "import onnxruntime as ort\n",
    "from glob import glob\n",
    "from code_base.datasets import WaveAllFileDataset\n",
    "from code_base.inefernce import BirdsInference\n",
    "from code_base.utils import load_json\n",
    "%matplotlib inline"
   ],
   "metadata": {
    "collapsed": false,
    "ExecuteTime": {
     "end_time": "2024-04-11T06:15:45.179116Z",
     "start_time": "2024-04-11T06:15:45.174806Z"
    }
   },
   "id": "56a632cafddccbdd",
   "execution_count": 3
  },
  {
   "cell_type": "code",
   "outputs": [],
   "source": [
    "EXP_NAME = \"InferenceClass-v1\"\n",
    "TRAIN_PERIOD = 5\n",
    "CONFIG = {\n",
    "    # Main\n",
    "    \"run_validation\": False,\n",
    "    \"run_test\": True,\n",
    "    \"use_sigmoid\": False,\n",
    "    \"folds\":[0],\n",
    "    \"test_data_root\": \"./testaudio/*.ogg\",\n",
    "    \"label_map_data_path\":'./json/bird2int_2023.json',\n",
    "    \"lookback\":None,\n",
    "    \"lookahead\":None,\n",
    "    \"segment_len\":5,\n",
    "    \"step\": None,\n",
    "    \"late_normalize\": True,\n",
    "    \"exp_name\":EXP_NAME,\n",
    "\n",
    "}\n",
    "\n",
    "if CONFIG.get(\"use_sed_mode\", False):\n",
    "    assert CONFIG[\"step\"] is not None\n",
    "else:\n",
    "    assert CONFIG[\"step\"] is None\n",
    "    \n",
    "if \"folds\" not in CONFIG:\n",
    "    CONFIG[\"folds\"] = list(range(CONFIG[\"n_folds\"]))"
   ],
   "metadata": {
    "collapsed": false,
    "ExecuteTime": {
     "end_time": "2024-04-11T06:15:45.957877Z",
     "start_time": "2024-04-11T06:15:45.954432Z"
    }
   },
   "id": "cd1fc243798d31be",
   "execution_count": 4
  },
  {
   "cell_type": "code",
   "outputs": [
    {
     "name": "stderr",
     "output_type": "stream",
     "text": [
      "C:\\Users\\Lenovo\\AppData\\Local\\Temp\\ipykernel_9336\\203894239.py:6: FutureWarning: get_duration() keyword argument 'filename' has been renamed to 'path' in version 0.10.0.\n",
      "\tThis alias will be removed in version 1.0.\n",
      "  \"duration_s\": [librosa.get_duration(filename=el) for el in test_au_pathes]\n"
     ]
    }
   ],
   "source": [
    "bird2id = load_json(CONFIG[\"label_map_data_path\"])"
   ],
   "metadata": {
    "collapsed": false,
    "ExecuteTime": {
     "end_time": "2024-04-11T06:15:46.556112Z",
     "start_time": "2024-04-11T06:15:46.455647Z"
    }
   },
   "id": "f0bf45bbad49cffb",
   "execution_count": 5
  },
  {
   "cell_type": "code",
   "outputs": [],
   "source": [
    "if CONFIG[\"run_test\"]:\n",
    "    test_au_pathes = glob(CONFIG[\"test_data_root\"])\n",
    "\n",
    "    test_df = pd.DataFrame({\n",
    "        \"filename\": test_au_pathes,\n",
    "        \"duration_s\": [librosa.get_duration(filename=el) for el in test_au_pathes]\n",
    "    })"
   ],
   "metadata": {
    "collapsed": false,
    "ExecuteTime": {
     "end_time": "2024-04-11T06:15:48.075325Z",
     "start_time": "2024-04-11T06:15:48.071235Z"
    }
   },
   "id": "aa8de75d232b1a6",
   "execution_count": 6
  },
  {
   "cell_type": "code",
   "outputs": [
    {
     "name": "stdout",
     "output_type": "stream",
     "text": [
      "secondary_labels is not found in df. Maybe test or nocall mode\n"
     ]
    }
   ],
   "source": [
    "if CONFIG[\"run_test\"]:\n",
    "    ds_config_test = {\n",
    "       \"root\": \"\",\n",
    "       \"label_str2int_mapping_path\": CONFIG[\"label_map_data_path\"],\n",
    "       \"n_cores\": 64,\n",
    "       \"use_audio_cache\": True,\n",
    "       \"test_mode\": True,\n",
    "       \"segment_len\": CONFIG[\"segment_len\"],\n",
    "       \"lookback\":CONFIG[\"lookback\"],\n",
    "       \"lookahead\":CONFIG[\"lookahead\"],\n",
    "        \"sample_id\": None,\n",
    "        \"late_normalize\": CONFIG[\"late_normalize\"],\n",
    "        \"step\": CONFIG[\"step\"],\n",
    "        \"validate_sr\": 32_000\n",
    "    }\n",
    "loader_config = {\n",
    "    \"batch_size\": 4,\n",
    "    \"drop_last\": False,\n",
    "    \"shuffle\": False,\n",
    "    \"num_workers\": 0,\n",
    "}"
   ],
   "metadata": {
    "collapsed": false,
    "ExecuteTime": {
     "end_time": "2024-04-11T06:15:49.427294Z",
     "start_time": "2024-04-11T06:15:49.421837Z"
    }
   },
   "id": "5088f65814ea2eb6",
   "execution_count": 7
  },
  {
   "cell_type": "code",
   "outputs": [],
   "source": [
    "if CONFIG[\"run_test\"]:\n",
    "    ds_test = WaveAllFileDataset(df=test_df, **ds_config_test)"
   ],
   "metadata": {
    "collapsed": false,
    "ExecuteTime": {
     "end_time": "2024-04-11T06:15:51.803002Z",
     "start_time": "2024-04-11T06:15:51.799669Z"
    }
   },
   "id": "8d01e4f7601a74b",
   "execution_count": 8
  },
  {
   "cell_type": "code",
   "outputs": [],
   "source": [
    "if CONFIG[\"run_test\"]:\n",
    "    loader_test = torch.utils.data.DataLoader(\n",
    "        ds_test,\n",
    "        **loader_config,\n",
    "    )"
   ],
   "metadata": {
    "collapsed": false,
    "ExecuteTime": {
     "end_time": "2024-04-11T06:15:54.138691Z",
     "start_time": "2024-04-11T06:15:52.516744Z"
    }
   },
   "id": "e0f0c14d412124d6",
   "execution_count": 9
  },
  {
   "cell_type": "code",
   "outputs": [],
   "source": [
    "model = ort.InferenceSession(\"./model/model.onnx\")"
   ],
   "metadata": {
    "collapsed": false,
    "ExecuteTime": {
     "end_time": "2024-04-11T06:15:54.991316Z",
     "start_time": "2024-04-11T06:15:54.988232Z"
    }
   },
   "id": "e51f4285d0f864d5",
   "execution_count": 10
  },
  {
   "cell_type": "code",
   "outputs": [
    {
     "name": "stderr",
     "output_type": "stream",
     "text": [
      "  0%|          | 0/3 [00:00<?, ?it/s]"
     ]
    },
    {
     "name": "stdout",
     "output_type": "stream",
     "text": [
      "Loading ./testaudio\\XC128013.ogg to audio cache\n",
      "Loading took 0.25699901580810547 seconds\n"
     ]
    },
    {
     "name": "stderr",
     "output_type": "stream",
     "text": [
      "100%|██████████| 3/3 [00:00<00:00,  3.06it/s]\n"
     ]
    }
   ],
   "source": [
    "inference_class = BirdsInference(\n",
    "    device=\"cpu\",\n",
    "    verbose_tqdm=True,\n",
    "    use_sigmoid=CONFIG[\"use_sigmoid\"],\n",
    ")"
   ],
   "metadata": {
    "collapsed": false,
    "ExecuteTime": {
     "end_time": "2024-04-11T06:15:57.598428Z",
     "start_time": "2024-04-11T06:15:56.612666Z"
    }
   },
   "id": "9316810e8b86c32d",
   "execution_count": 11
  },
  {
   "cell_type": "code",
   "outputs": [],
   "source": [
    "test_preds, test_preds_long, test_dfidx, test_end = inference_class.predict_test_loader(\n",
    "    nn_models=model,\n",
    "    data_loader=loader_test,\n",
    "    is_onnx_model=True\n",
    ")"
   ],
   "metadata": {
    "collapsed": false,
    "ExecuteTime": {
     "end_time": "2024-04-11T06:15:58.087332Z",
     "start_time": "2024-04-11T06:15:58.082643Z"
    }
   },
   "id": "929b202963a8d2fc",
   "execution_count": 12
  },
  {
   "cell_type": "code",
   "outputs": [],
   "source": [
    "go_df = pd.DataFrame(test_preds);\n",
    "\n",
    "result = []\n",
    "\n",
    "for index, row in go_df.iterrows():\n",
    "    max_index = row.idxmax()\n",
    "    result.append(max_index)\n",
    "\n",
    "index_counts = pd.Series(result).value_counts()\n",
    "\n",
    "most_frequent_index = index_counts.idxmax()"
   ],
   "metadata": {
    "collapsed": false,
    "ExecuteTime": {
     "end_time": "2024-04-11T06:15:59.054086Z",
     "start_time": "2024-04-11T06:15:59.049899Z"
    }
   },
   "id": "444bcd5f7f624268",
   "execution_count": 13
  },
  {
   "cell_type": "code",
   "outputs": [],
   "source": [
    "import json\n",
    "\n",
    "json_file_path = './json/bird2int_2023.json'\n",
    "\n",
    "with open(json_file_path, 'r') as file:\n",
    "    data_dict = json.load(file)\n",
    "\n",
    "list_of_key = list(data_dict.keys())\n",
    "list_of_value = list(data_dict.values())\n",
    "\n",
    "position = list_of_value.index(most_frequent_index)\n",
    "bird_id_string = list_of_key[position]"
   ],
   "metadata": {
    "collapsed": false,
    "ExecuteTime": {
     "end_time": "2024-04-11T06:15:59.607797Z",
     "start_time": "2024-04-11T06:15:59.573171Z"
    }
   },
   "id": "6560dfada70df178",
   "execution_count": 14
  },
  {
   "cell_type": "code",
   "outputs": [
    {
     "name": "stdout",
     "output_type": "stream",
     "text": [
      "Turdus tephronotus\n"
     ]
    }
   ],
   "source": [
    "Bird_info = pd.read_csv('./eBird_Taxonomy_v2021.csv')\n",
    "Bird_info = pd.DataFrame(Bird_info)"
   ],
   "metadata": {
    "collapsed": false,
    "ExecuteTime": {
     "end_time": "2024-04-11T06:16:00.032046Z",
     "start_time": "2024-04-11T06:16:00.026740Z"
    }
   },
   "id": "3fc0dd46a2f32901",
   "execution_count": 15
  },
  {
   "cell_type": "code",
   "outputs": [],
   "source": [
    "found_row = Bird_info[Bird_info['SPECIES_CODE'] == bird_id_string]\n",
    "result = found_row['SCI_NAME'].values[0]\n",
    "print(result)"
   ],
   "metadata": {
    "collapsed": false
   },
   "id": "c166e026a1ea3bff",
   "execution_count": null
  },
  {
   "cell_type": "code",
   "outputs": [],
   "source": [],
   "metadata": {
    "collapsed": false
   },
   "id": "30e4cb1b9c347588"
  }
 ],
 "metadata": {
  "kernelspec": {
   "display_name": "Python 3",
   "language": "python",
   "name": "python3"
  },
  "language_info": {
   "codemirror_mode": {
    "name": "ipython",
    "version": 2
   },
   "file_extension": ".py",
   "mimetype": "text/x-python",
   "name": "python",
   "nbconvert_exporter": "python",
   "pygments_lexer": "ipython2",
   "version": "2.7.6"
  }
 },
 "nbformat": 4,
 "nbformat_minor": 5
}
